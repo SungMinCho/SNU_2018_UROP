{
 "cells": [
  {
   "cell_type": "code",
   "execution_count": 1,
   "metadata": {},
   "outputs": [],
   "source": [
    "from mnist import *\n",
    "from train import *\n",
    "import matplotlib.pyplot as plt"
   ]
  },
  {
   "cell_type": "code",
   "execution_count": 2,
   "metadata": {},
   "outputs": [],
   "source": [
    "teacher = Net(100)"
   ]
  },
  {
   "cell_type": "code",
   "execution_count": 3,
   "metadata": {},
   "outputs": [],
   "source": [
    "student = Net(50)\n",
    "student2 = Net(50)"
   ]
  },
  {
   "cell_type": "code",
   "execution_count": 4,
   "metadata": {},
   "outputs": [],
   "source": [
    "trainloader, testloader = load_data()\n",
    "EPOCHS = 30"
   ]
  },
  {
   "cell_type": "code",
   "execution_count": 5,
   "metadata": {},
   "outputs": [
    {
     "name": "stderr",
     "output_type": "stream",
     "text": [
      "\r",
      "  0%|                                         | 0/469 [00:00<?, ?it/s]"
     ]
    },
    {
     "name": "stdout",
     "output_type": "stream",
     "text": [
      "Epoch : 1\n"
     ]
    },
    {
     "name": "stderr",
     "output_type": "stream",
     "text": [
      "100%|██████████████████████████████| 469/469 [00:03<00:00, 123.82it/s]\n",
      "100%|████████████████████████████████| 79/79 [00:00<00:00, 132.93it/s]\n",
      "  0%|                                         | 0/469 [00:00<?, ?it/s]"
     ]
    },
    {
     "name": "stdout",
     "output_type": "stream",
     "text": [
      "Loss : 0.4200 Acc : 0.8817\n",
      "val Loss : 0.2122 val Acc : 0.9358\n",
      "Epoch : 2\n"
     ]
    },
    {
     "name": "stderr",
     "output_type": "stream",
     "text": [
      "100%|██████████████████████████████| 469/469 [00:03<00:00, 118.01it/s]\n",
      "100%|████████████████████████████████| 79/79 [00:00<00:00, 129.97it/s]\n",
      "  0%|                                         | 0/469 [00:00<?, ?it/s]"
     ]
    },
    {
     "name": "stdout",
     "output_type": "stream",
     "text": [
      "Loss : 0.1755 Acc : 0.9488\n",
      "val Loss : 0.1408 val Acc : 0.9572\n",
      "Epoch : 3\n"
     ]
    },
    {
     "name": "stderr",
     "output_type": "stream",
     "text": [
      "100%|██████████████████████████████| 469/469 [00:03<00:00, 122.72it/s]\n",
      "100%|████████████████████████████████| 79/79 [00:00<00:00, 133.98it/s]\n",
      "  0%|                                         | 0/469 [00:00<?, ?it/s]"
     ]
    },
    {
     "name": "stdout",
     "output_type": "stream",
     "text": [
      "Loss : 0.1236 Acc : 0.9631\n",
      "val Loss : 0.1163 val Acc : 0.9637\n",
      "Epoch : 4\n"
     ]
    },
    {
     "name": "stderr",
     "output_type": "stream",
     "text": [
      "100%|██████████████████████████████| 469/469 [00:03<00:00, 124.02it/s]\n",
      "100%|████████████████████████████████| 79/79 [00:00<00:00, 123.22it/s]\n",
      "  0%|                                         | 0/469 [00:00<?, ?it/s]"
     ]
    },
    {
     "name": "stdout",
     "output_type": "stream",
     "text": [
      "Loss : 0.0946 Acc : 0.9719\n",
      "val Loss : 0.0966 val Acc : 0.9696\n",
      "Epoch : 5\n"
     ]
    },
    {
     "name": "stderr",
     "output_type": "stream",
     "text": [
      "100%|██████████████████████████████| 469/469 [00:03<00:00, 120.02it/s]\n",
      "100%|████████████████████████████████| 79/79 [00:00<00:00, 133.47it/s]\n",
      "  0%|                                         | 0/469 [00:00<?, ?it/s]"
     ]
    },
    {
     "name": "stdout",
     "output_type": "stream",
     "text": [
      "Loss : 0.0759 Acc : 0.9765\n",
      "val Loss : 0.0931 val Acc : 0.9696\n",
      "Epoch : 6\n"
     ]
    },
    {
     "name": "stderr",
     "output_type": "stream",
     "text": [
      "100%|██████████████████████████████| 469/469 [00:03<00:00, 120.30it/s]\n",
      "100%|████████████████████████████████| 79/79 [00:00<00:00, 134.72it/s]\n",
      "  0%|                                         | 0/469 [00:00<?, ?it/s]"
     ]
    },
    {
     "name": "stdout",
     "output_type": "stream",
     "text": [
      "Loss : 0.0630 Acc : 0.9805\n",
      "val Loss : 0.0853 val Acc : 0.9732\n",
      "Epoch : 7\n"
     ]
    },
    {
     "name": "stderr",
     "output_type": "stream",
     "text": [
      "100%|██████████████████████████████| 469/469 [00:03<00:00, 123.46it/s]\n",
      "100%|████████████████████████████████| 79/79 [00:00<00:00, 131.95it/s]\n",
      "  0%|                                         | 0/469 [00:00<?, ?it/s]"
     ]
    },
    {
     "name": "stdout",
     "output_type": "stream",
     "text": [
      "Loss : 0.0535 Acc : 0.9833\n",
      "val Loss : 0.0887 val Acc : 0.9724\n",
      "Epoch : 8\n"
     ]
    },
    {
     "name": "stderr",
     "output_type": "stream",
     "text": [
      "100%|██████████████████████████████| 469/469 [00:03<00:00, 122.11it/s]\n",
      "100%|████████████████████████████████| 79/79 [00:00<00:00, 132.14it/s]\n",
      "  0%|                                         | 0/469 [00:00<?, ?it/s]"
     ]
    },
    {
     "name": "stdout",
     "output_type": "stream",
     "text": [
      "Loss : 0.0456 Acc : 0.9854\n",
      "val Loss : 0.0774 val Acc : 0.9766\n",
      "Epoch : 9\n"
     ]
    },
    {
     "name": "stderr",
     "output_type": "stream",
     "text": [
      "100%|███████████████████████████████| 469/469 [00:04<00:00, 81.88it/s]\n",
      "100%|████████████████████████████████| 79/79 [00:00<00:00, 109.90it/s]\n",
      "  0%|                                         | 0/469 [00:00<?, ?it/s]"
     ]
    },
    {
     "name": "stdout",
     "output_type": "stream",
     "text": [
      "Loss : 0.0365 Acc : 0.9887\n",
      "val Loss : 0.0980 val Acc : 0.9719\n",
      "Epoch : 10\n"
     ]
    },
    {
     "name": "stderr",
     "output_type": "stream",
     "text": [
      "100%|██████████████████████████████| 469/469 [00:04<00:00, 103.80it/s]\n",
      "100%|████████████████████████████████| 79/79 [00:00<00:00, 116.77it/s]\n",
      "  0%|                                         | 0/469 [00:00<?, ?it/s]"
     ]
    },
    {
     "name": "stdout",
     "output_type": "stream",
     "text": [
      "Loss : 0.0333 Acc : 0.9894\n",
      "val Loss : 0.0779 val Acc : 0.9767\n",
      "Epoch : 11\n"
     ]
    },
    {
     "name": "stderr",
     "output_type": "stream",
     "text": [
      "100%|██████████████████████████████| 469/469 [00:04<00:00, 114.01it/s]\n",
      "100%|████████████████████████████████| 79/79 [00:00<00:00, 121.27it/s]\n",
      "  0%|                                         | 0/469 [00:00<?, ?it/s]"
     ]
    },
    {
     "name": "stdout",
     "output_type": "stream",
     "text": [
      "Loss : 0.0261 Acc : 0.9922\n",
      "val Loss : 0.0889 val Acc : 0.9759\n",
      "Epoch : 12\n"
     ]
    },
    {
     "name": "stderr",
     "output_type": "stream",
     "text": [
      "100%|██████████████████████████████| 469/469 [00:03<00:00, 118.00it/s]\n",
      "100%|████████████████████████████████| 79/79 [00:00<00:00, 131.20it/s]\n",
      "  0%|                                         | 0/469 [00:00<?, ?it/s]"
     ]
    },
    {
     "name": "stdout",
     "output_type": "stream",
     "text": [
      "Loss : 0.0217 Acc : 0.9931\n",
      "val Loss : 0.0842 val Acc : 0.9772\n",
      "Epoch : 13\n"
     ]
    },
    {
     "name": "stderr",
     "output_type": "stream",
     "text": [
      "100%|██████████████████████████████| 469/469 [00:03<00:00, 122.22it/s]\n",
      "100%|████████████████████████████████| 79/79 [00:00<00:00, 131.24it/s]\n",
      "  0%|                                         | 0/469 [00:00<?, ?it/s]"
     ]
    },
    {
     "name": "stdout",
     "output_type": "stream",
     "text": [
      "Loss : 0.0198 Acc : 0.9937\n",
      "val Loss : 0.0896 val Acc : 0.9770\n",
      "Epoch : 14\n"
     ]
    },
    {
     "name": "stderr",
     "output_type": "stream",
     "text": [
      "100%|██████████████████████████████| 469/469 [00:03<00:00, 122.67it/s]\n",
      "100%|████████████████████████████████| 79/79 [00:00<00:00, 131.99it/s]\n",
      "  0%|                                         | 0/469 [00:00<?, ?it/s]"
     ]
    },
    {
     "name": "stdout",
     "output_type": "stream",
     "text": [
      "Loss : 0.0157 Acc : 0.9953\n",
      "val Loss : 0.0931 val Acc : 0.9769\n",
      "Epoch : 15\n"
     ]
    },
    {
     "name": "stderr",
     "output_type": "stream",
     "text": [
      "100%|██████████████████████████████| 469/469 [00:03<00:00, 128.59it/s]\n",
      "100%|████████████████████████████████| 79/79 [00:00<00:00, 133.91it/s]\n",
      "  0%|                                         | 0/469 [00:00<?, ?it/s]"
     ]
    },
    {
     "name": "stdout",
     "output_type": "stream",
     "text": [
      "Loss : 0.0160 Acc : 0.9948\n",
      "val Loss : 0.0933 val Acc : 0.9751\n",
      "Epoch : 16\n"
     ]
    },
    {
     "name": "stderr",
     "output_type": "stream",
     "text": [
      "100%|██████████████████████████████| 469/469 [00:03<00:00, 119.83it/s]\n",
      "100%|████████████████████████████████| 79/79 [00:00<00:00, 136.65it/s]\n",
      "  0%|                                         | 0/469 [00:00<?, ?it/s]"
     ]
    },
    {
     "name": "stdout",
     "output_type": "stream",
     "text": [
      "Loss : 0.0121 Acc : 0.9963\n",
      "val Loss : 0.1038 val Acc : 0.9761\n",
      "Epoch : 17\n"
     ]
    },
    {
     "name": "stderr",
     "output_type": "stream",
     "text": [
      "100%|██████████████████████████████| 469/469 [00:03<00:00, 121.24it/s]\n",
      "100%|████████████████████████████████| 79/79 [00:00<00:00, 133.63it/s]\n",
      "  0%|                                         | 0/469 [00:00<?, ?it/s]"
     ]
    },
    {
     "name": "stdout",
     "output_type": "stream",
     "text": [
      "Loss : 0.0118 Acc : 0.9963\n",
      "val Loss : 0.1069 val Acc : 0.9751\n",
      "Epoch : 18\n"
     ]
    },
    {
     "name": "stderr",
     "output_type": "stream",
     "text": [
      "100%|██████████████████████████████| 469/469 [00:03<00:00, 122.23it/s]\n",
      "100%|████████████████████████████████| 79/79 [00:00<00:00, 136.96it/s]\n",
      "  0%|                                         | 0/469 [00:00<?, ?it/s]"
     ]
    },
    {
     "name": "stdout",
     "output_type": "stream",
     "text": [
      "Loss : 0.0092 Acc : 0.9971\n",
      "val Loss : 0.1146 val Acc : 0.9733\n",
      "Epoch : 19\n"
     ]
    },
    {
     "name": "stderr",
     "output_type": "stream",
     "text": [
      "100%|██████████████████████████████| 469/469 [00:03<00:00, 122.68it/s]\n",
      "100%|████████████████████████████████| 79/79 [00:00<00:00, 135.35it/s]\n",
      "  0%|                                         | 0/469 [00:00<?, ?it/s]"
     ]
    },
    {
     "name": "stdout",
     "output_type": "stream",
     "text": [
      "Loss : 0.0109 Acc : 0.9965\n",
      "val Loss : 0.1104 val Acc : 0.9752\n",
      "Epoch : 20\n"
     ]
    },
    {
     "name": "stderr",
     "output_type": "stream",
     "text": [
      "100%|██████████████████████████████| 469/469 [00:03<00:00, 123.91it/s]\n",
      "100%|████████████████████████████████| 79/79 [00:00<00:00, 135.19it/s]\n",
      "  0%|                                         | 0/469 [00:00<?, ?it/s]"
     ]
    },
    {
     "name": "stdout",
     "output_type": "stream",
     "text": [
      "Loss : 0.0125 Acc : 0.9957\n",
      "val Loss : 0.1086 val Acc : 0.9771\n",
      "Epoch : 21\n"
     ]
    },
    {
     "name": "stderr",
     "output_type": "stream",
     "text": [
      "100%|██████████████████████████████| 469/469 [00:03<00:00, 123.07it/s]\n",
      "100%|████████████████████████████████| 79/79 [00:00<00:00, 131.64it/s]\n",
      "  0%|                                         | 0/469 [00:00<?, ?it/s]"
     ]
    },
    {
     "name": "stdout",
     "output_type": "stream",
     "text": [
      "Loss : 0.0080 Acc : 0.9975\n",
      "val Loss : 0.1018 val Acc : 0.9784\n",
      "Epoch : 22\n"
     ]
    },
    {
     "name": "stderr",
     "output_type": "stream",
     "text": [
      "100%|██████████████████████████████| 469/469 [00:03<00:00, 122.84it/s]\n",
      "100%|████████████████████████████████| 79/79 [00:00<00:00, 137.73it/s]\n",
      "  0%|                                         | 0/469 [00:00<?, ?it/s]"
     ]
    },
    {
     "name": "stdout",
     "output_type": "stream",
     "text": [
      "Loss : 0.0054 Acc : 0.9983\n",
      "val Loss : 0.1072 val Acc : 0.9771\n",
      "Epoch : 23\n"
     ]
    },
    {
     "name": "stderr",
     "output_type": "stream",
     "text": [
      "100%|██████████████████████████████| 469/469 [00:03<00:00, 122.01it/s]\n",
      "100%|████████████████████████████████| 79/79 [00:00<00:00, 132.06it/s]\n",
      "  0%|                                         | 0/469 [00:00<?, ?it/s]"
     ]
    },
    {
     "name": "stdout",
     "output_type": "stream",
     "text": [
      "Loss : 0.0073 Acc : 0.9976\n",
      "val Loss : 0.1177 val Acc : 0.9763\n",
      "Epoch : 24\n"
     ]
    },
    {
     "name": "stderr",
     "output_type": "stream",
     "text": [
      "100%|██████████████████████████████| 469/469 [00:03<00:00, 122.26it/s]\n",
      "100%|████████████████████████████████| 79/79 [00:00<00:00, 134.67it/s]\n",
      "  0%|                                         | 0/469 [00:00<?, ?it/s]"
     ]
    },
    {
     "name": "stdout",
     "output_type": "stream",
     "text": [
      "Loss : 0.0082 Acc : 0.9974\n",
      "val Loss : 0.1335 val Acc : 0.9740\n",
      "Epoch : 25\n"
     ]
    },
    {
     "name": "stderr",
     "output_type": "stream",
     "text": [
      "100%|██████████████████████████████| 469/469 [00:03<00:00, 117.52it/s]\n",
      "100%|████████████████████████████████| 79/79 [00:00<00:00, 135.38it/s]\n",
      "  0%|                                         | 0/469 [00:00<?, ?it/s]"
     ]
    },
    {
     "name": "stdout",
     "output_type": "stream",
     "text": [
      "Loss : 0.0093 Acc : 0.9968\n",
      "val Loss : 0.1134 val Acc : 0.9781\n",
      "Epoch : 26\n"
     ]
    },
    {
     "name": "stderr",
     "output_type": "stream",
     "text": [
      "100%|██████████████████████████████| 469/469 [00:03<00:00, 122.76it/s]\n",
      "100%|████████████████████████████████| 79/79 [00:00<00:00, 128.19it/s]\n",
      "  0%|                                         | 0/469 [00:00<?, ?it/s]"
     ]
    },
    {
     "name": "stdout",
     "output_type": "stream",
     "text": [
      "Loss : 0.0068 Acc : 0.9979\n",
      "val Loss : 0.1559 val Acc : 0.9743\n",
      "Epoch : 27\n"
     ]
    },
    {
     "name": "stderr",
     "output_type": "stream",
     "text": [
      "100%|██████████████████████████████| 469/469 [00:03<00:00, 122.77it/s]\n",
      "100%|████████████████████████████████| 79/79 [00:00<00:00, 133.56it/s]\n",
      "  0%|                                         | 0/469 [00:00<?, ?it/s]"
     ]
    },
    {
     "name": "stdout",
     "output_type": "stream",
     "text": [
      "Loss : 0.0066 Acc : 0.9978\n",
      "val Loss : 0.1244 val Acc : 0.9777\n",
      "Epoch : 28\n"
     ]
    },
    {
     "name": "stderr",
     "output_type": "stream",
     "text": [
      "100%|██████████████████████████████| 469/469 [00:03<00:00, 124.06it/s]\n",
      "100%|████████████████████████████████| 79/79 [00:00<00:00, 137.00it/s]\n",
      "  0%|                                         | 0/469 [00:00<?, ?it/s]"
     ]
    },
    {
     "name": "stdout",
     "output_type": "stream",
     "text": [
      "Loss : 0.0076 Acc : 0.9974\n",
      "val Loss : 0.1204 val Acc : 0.9774\n",
      "Epoch : 29\n"
     ]
    },
    {
     "name": "stderr",
     "output_type": "stream",
     "text": [
      "100%|██████████████████████████████| 469/469 [00:03<00:00, 131.42it/s]\n",
      "100%|████████████████████████████████| 79/79 [00:00<00:00, 131.97it/s]\n",
      "  0%|                                         | 0/469 [00:00<?, ?it/s]"
     ]
    },
    {
     "name": "stdout",
     "output_type": "stream",
     "text": [
      "Loss : 0.0070 Acc : 0.9975\n",
      "val Loss : 0.1308 val Acc : 0.9769\n",
      "Epoch : 30\n"
     ]
    },
    {
     "name": "stderr",
     "output_type": "stream",
     "text": [
      "100%|██████████████████████████████| 469/469 [00:03<00:00, 120.48it/s]\n",
      "100%|████████████████████████████████| 79/79 [00:00<00:00, 137.49it/s]"
     ]
    },
    {
     "name": "stdout",
     "output_type": "stream",
     "text": [
      "Loss : 0.0040 Acc : 0.9988\n",
      "val Loss : 0.1248 val Acc : 0.9779\n"
     ]
    },
    {
     "name": "stderr",
     "output_type": "stream",
     "text": [
      "\n"
     ]
    }
   ],
   "source": [
    "optimizer = optim.Adam(teacher.parameters(), lr=0.001)\n",
    "loss_fn = nn.CrossEntropyLoss()\n",
    "h1 = train(teacher, trainloader, optimizer, loss_fn, testloader, epochs=EPOCHS, save_path=\"models/mnist_teacher.pt\")"
   ]
  },
  {
   "cell_type": "code",
   "execution_count": 6,
   "metadata": {},
   "outputs": [
    {
     "name": "stderr",
     "output_type": "stream",
     "text": [
      "\r",
      "  0%|                                         | 0/469 [00:00<?, ?it/s]"
     ]
    },
    {
     "name": "stdout",
     "output_type": "stream",
     "text": [
      "Epoch : 1\n"
     ]
    },
    {
     "name": "stderr",
     "output_type": "stream",
     "text": [
      "100%|██████████████████████████████| 469/469 [00:03<00:00, 124.61it/s]\n",
      "100%|████████████████████████████████| 79/79 [00:00<00:00, 132.47it/s]\n",
      "  0%|                                         | 0/469 [00:00<?, ?it/s]"
     ]
    },
    {
     "name": "stdout",
     "output_type": "stream",
     "text": [
      "Loss : 0.4903 Acc : 0.8588\n",
      "val Loss : 0.2242 val Acc : 0.9336\n",
      "Epoch : 2\n"
     ]
    },
    {
     "name": "stderr",
     "output_type": "stream",
     "text": [
      "100%|██████████████████████████████| 469/469 [00:03<00:00, 127.56it/s]\n",
      "100%|████████████████████████████████| 79/79 [00:00<00:00, 133.20it/s]\n",
      "  0%|                                         | 0/469 [00:00<?, ?it/s]"
     ]
    },
    {
     "name": "stdout",
     "output_type": "stream",
     "text": [
      "Loss : 0.2051 Acc : 0.9411\n",
      "val Loss : 0.1773 val Acc : 0.9469\n",
      "Epoch : 3\n"
     ]
    },
    {
     "name": "stderr",
     "output_type": "stream",
     "text": [
      "100%|██████████████████████████████| 469/469 [00:03<00:00, 128.83it/s]\n",
      "100%|████████████████████████████████| 79/79 [00:00<00:00, 134.37it/s]\n",
      "  0%|                                         | 0/469 [00:00<?, ?it/s]"
     ]
    },
    {
     "name": "stdout",
     "output_type": "stream",
     "text": [
      "Loss : 0.1598 Acc : 0.9529\n",
      "val Loss : 0.1436 val Acc : 0.9561\n",
      "Epoch : 4\n"
     ]
    },
    {
     "name": "stderr",
     "output_type": "stream",
     "text": [
      "100%|██████████████████████████████| 469/469 [00:03<00:00, 130.11it/s]\n",
      "100%|████████████████████████████████| 79/79 [00:00<00:00, 135.94it/s]\n",
      "  0%|                                         | 0/469 [00:00<?, ?it/s]"
     ]
    },
    {
     "name": "stdout",
     "output_type": "stream",
     "text": [
      "Loss : 0.1320 Acc : 0.9607\n",
      "val Loss : 0.1286 val Acc : 0.9610\n",
      "Epoch : 5\n"
     ]
    },
    {
     "name": "stderr",
     "output_type": "stream",
     "text": [
      "100%|██████████████████████████████| 469/469 [00:03<00:00, 131.64it/s]\n",
      "100%|████████████████████████████████| 79/79 [00:00<00:00, 134.62it/s]\n",
      "  0%|                                         | 0/469 [00:00<?, ?it/s]"
     ]
    },
    {
     "name": "stdout",
     "output_type": "stream",
     "text": [
      "Loss : 0.1142 Acc : 0.9654\n",
      "val Loss : 0.1172 val Acc : 0.9645\n",
      "Epoch : 6\n"
     ]
    },
    {
     "name": "stderr",
     "output_type": "stream",
     "text": [
      "100%|██████████████████████████████| 469/469 [00:03<00:00, 129.87it/s]\n",
      "100%|████████████████████████████████| 79/79 [00:00<00:00, 133.43it/s]\n",
      "  0%|                                         | 0/469 [00:00<?, ?it/s]"
     ]
    },
    {
     "name": "stdout",
     "output_type": "stream",
     "text": [
      "Loss : 0.0989 Acc : 0.9707\n",
      "val Loss : 0.1121 val Acc : 0.9641\n",
      "Epoch : 7\n"
     ]
    },
    {
     "name": "stderr",
     "output_type": "stream",
     "text": [
      "100%|██████████████████████████████| 469/469 [00:03<00:00, 121.23it/s]\n",
      "100%|████████████████████████████████| 79/79 [00:00<00:00, 136.00it/s]\n",
      "  0%|                                         | 0/469 [00:00<?, ?it/s]"
     ]
    },
    {
     "name": "stdout",
     "output_type": "stream",
     "text": [
      "Loss : 0.0874 Acc : 0.9739\n",
      "val Loss : 0.1043 val Acc : 0.9686\n",
      "Epoch : 8\n"
     ]
    },
    {
     "name": "stderr",
     "output_type": "stream",
     "text": [
      "100%|██████████████████████████████| 469/469 [00:03<00:00, 128.28it/s]\n",
      "100%|████████████████████████████████| 79/79 [00:00<00:00, 133.81it/s]\n",
      "  0%|                                         | 0/469 [00:00<?, ?it/s]"
     ]
    },
    {
     "name": "stdout",
     "output_type": "stream",
     "text": [
      "Loss : 0.0771 Acc : 0.9768\n",
      "val Loss : 0.1069 val Acc : 0.9664\n",
      "Epoch : 9\n"
     ]
    },
    {
     "name": "stderr",
     "output_type": "stream",
     "text": [
      "100%|██████████████████████████████| 469/469 [00:03<00:00, 129.08it/s]\n",
      "100%|████████████████████████████████| 79/79 [00:00<00:00, 132.87it/s]\n",
      "  0%|                                         | 0/469 [00:00<?, ?it/s]"
     ]
    },
    {
     "name": "stdout",
     "output_type": "stream",
     "text": [
      "Loss : 0.0702 Acc : 0.9786\n",
      "val Loss : 0.0971 val Acc : 0.9712\n",
      "Epoch : 10\n"
     ]
    },
    {
     "name": "stderr",
     "output_type": "stream",
     "text": [
      "100%|██████████████████████████████| 469/469 [00:03<00:00, 129.25it/s]\n",
      "100%|████████████████████████████████| 79/79 [00:00<00:00, 130.14it/s]\n",
      "  0%|                                         | 0/469 [00:00<?, ?it/s]"
     ]
    },
    {
     "name": "stdout",
     "output_type": "stream",
     "text": [
      "Loss : 0.0633 Acc : 0.9814\n",
      "val Loss : 0.0926 val Acc : 0.9726\n",
      "Epoch : 11\n"
     ]
    },
    {
     "name": "stderr",
     "output_type": "stream",
     "text": [
      "100%|██████████████████████████████| 469/469 [00:03<00:00, 130.73it/s]\n",
      "100%|████████████████████████████████| 79/79 [00:00<00:00, 135.13it/s]\n",
      "  0%|                                         | 0/469 [00:00<?, ?it/s]"
     ]
    },
    {
     "name": "stdout",
     "output_type": "stream",
     "text": [
      "Loss : 0.0583 Acc : 0.9825\n",
      "val Loss : 0.0940 val Acc : 0.9715\n",
      "Epoch : 12\n"
     ]
    },
    {
     "name": "stderr",
     "output_type": "stream",
     "text": [
      "100%|██████████████████████████████| 469/469 [00:03<00:00, 127.62it/s]\n",
      "100%|████████████████████████████████| 79/79 [00:00<00:00, 121.67it/s]\n",
      "  0%|                                         | 0/469 [00:00<?, ?it/s]"
     ]
    },
    {
     "name": "stdout",
     "output_type": "stream",
     "text": [
      "Loss : 0.0520 Acc : 0.9845\n",
      "val Loss : 0.0918 val Acc : 0.9729\n",
      "Epoch : 13\n"
     ]
    },
    {
     "name": "stderr",
     "output_type": "stream",
     "text": [
      "100%|██████████████████████████████| 469/469 [00:03<00:00, 130.22it/s]\n",
      "100%|████████████████████████████████| 79/79 [00:00<00:00, 133.58it/s]\n",
      "  0%|                                         | 0/469 [00:00<?, ?it/s]"
     ]
    },
    {
     "name": "stdout",
     "output_type": "stream",
     "text": [
      "Loss : 0.0471 Acc : 0.9857\n",
      "val Loss : 0.0908 val Acc : 0.9739\n",
      "Epoch : 14\n"
     ]
    },
    {
     "name": "stderr",
     "output_type": "stream",
     "text": [
      "100%|██████████████████████████████| 469/469 [00:03<00:00, 124.24it/s]\n",
      "100%|████████████████████████████████| 79/79 [00:00<00:00, 134.82it/s]\n",
      "  0%|                                         | 0/469 [00:00<?, ?it/s]"
     ]
    },
    {
     "name": "stdout",
     "output_type": "stream",
     "text": [
      "Loss : 0.0439 Acc : 0.9867\n",
      "val Loss : 0.1037 val Acc : 0.9692\n",
      "Epoch : 15\n"
     ]
    },
    {
     "name": "stderr",
     "output_type": "stream",
     "text": [
      "100%|██████████████████████████████| 469/469 [00:03<00:00, 128.33it/s]\n",
      "100%|████████████████████████████████| 79/79 [00:00<00:00, 137.57it/s]\n",
      "  0%|                                         | 0/469 [00:00<?, ?it/s]"
     ]
    },
    {
     "name": "stdout",
     "output_type": "stream",
     "text": [
      "Loss : 0.0394 Acc : 0.9878\n",
      "val Loss : 0.0924 val Acc : 0.9737\n",
      "Epoch : 16\n"
     ]
    },
    {
     "name": "stderr",
     "output_type": "stream",
     "text": [
      "100%|██████████████████████████████| 469/469 [00:03<00:00, 128.24it/s]\n",
      "100%|████████████████████████████████| 79/79 [00:00<00:00, 137.25it/s]\n",
      "  0%|                                         | 0/469 [00:00<?, ?it/s]"
     ]
    },
    {
     "name": "stdout",
     "output_type": "stream",
     "text": [
      "Loss : 0.0360 Acc : 0.9890\n",
      "val Loss : 0.0975 val Acc : 0.9726\n",
      "Epoch : 17\n"
     ]
    },
    {
     "name": "stderr",
     "output_type": "stream",
     "text": [
      "100%|██████████████████████████████| 469/469 [00:03<00:00, 127.87it/s]\n",
      "100%|████████████████████████████████| 79/79 [00:00<00:00, 133.45it/s]\n",
      "  0%|                                         | 0/469 [00:00<?, ?it/s]"
     ]
    },
    {
     "name": "stdout",
     "output_type": "stream",
     "text": [
      "Loss : 0.0330 Acc : 0.9896\n",
      "val Loss : 0.0960 val Acc : 0.9742\n",
      "Epoch : 18\n"
     ]
    },
    {
     "name": "stderr",
     "output_type": "stream",
     "text": [
      "100%|██████████████████████████████| 469/469 [00:03<00:00, 128.95it/s]\n",
      "100%|████████████████████████████████| 79/79 [00:00<00:00, 136.39it/s]\n",
      "  0%|                                         | 0/469 [00:00<?, ?it/s]"
     ]
    },
    {
     "name": "stdout",
     "output_type": "stream",
     "text": [
      "Loss : 0.0289 Acc : 0.9910\n",
      "val Loss : 0.1023 val Acc : 0.9733\n",
      "Epoch : 19\n"
     ]
    },
    {
     "name": "stderr",
     "output_type": "stream",
     "text": [
      "100%|██████████████████████████████| 469/469 [00:03<00:00, 131.26it/s]\n",
      "100%|████████████████████████████████| 79/79 [00:00<00:00, 136.51it/s]\n",
      "  0%|                                         | 0/469 [00:00<?, ?it/s]"
     ]
    },
    {
     "name": "stdout",
     "output_type": "stream",
     "text": [
      "Loss : 0.0275 Acc : 0.9916\n",
      "val Loss : 0.0988 val Acc : 0.9747\n",
      "Epoch : 20\n"
     ]
    },
    {
     "name": "stderr",
     "output_type": "stream",
     "text": [
      "100%|██████████████████████████████| 469/469 [00:03<00:00, 132.13it/s]\n",
      "100%|████████████████████████████████| 79/79 [00:00<00:00, 137.13it/s]\n",
      "  0%|                                         | 0/469 [00:00<?, ?it/s]"
     ]
    },
    {
     "name": "stdout",
     "output_type": "stream",
     "text": [
      "Loss : 0.0251 Acc : 0.9923\n",
      "val Loss : 0.1051 val Acc : 0.9736\n",
      "Epoch : 21\n"
     ]
    },
    {
     "name": "stderr",
     "output_type": "stream",
     "text": [
      "100%|██████████████████████████████| 469/469 [00:03<00:00, 138.04it/s]\n",
      "100%|████████████████████████████████| 79/79 [00:00<00:00, 137.97it/s]\n",
      "  0%|                                         | 0/469 [00:00<?, ?it/s]"
     ]
    },
    {
     "name": "stdout",
     "output_type": "stream",
     "text": [
      "Loss : 0.0236 Acc : 0.9926\n",
      "val Loss : 0.1006 val Acc : 0.9746\n",
      "Epoch : 22\n"
     ]
    },
    {
     "name": "stderr",
     "output_type": "stream",
     "text": [
      "100%|██████████████████████████████| 469/469 [00:03<00:00, 131.41it/s]\n",
      "100%|████████████████████████████████| 79/79 [00:00<00:00, 136.25it/s]\n",
      "  0%|                                         | 0/469 [00:00<?, ?it/s]"
     ]
    },
    {
     "name": "stdout",
     "output_type": "stream",
     "text": [
      "Loss : 0.0225 Acc : 0.9931\n",
      "val Loss : 0.1085 val Acc : 0.9740\n",
      "Epoch : 23\n"
     ]
    },
    {
     "name": "stderr",
     "output_type": "stream",
     "text": [
      "100%|██████████████████████████████| 469/469 [00:03<00:00, 132.18it/s]\n",
      "100%|████████████████████████████████| 79/79 [00:00<00:00, 138.71it/s]\n",
      "  0%|                                         | 0/469 [00:00<?, ?it/s]"
     ]
    },
    {
     "name": "stdout",
     "output_type": "stream",
     "text": [
      "Loss : 0.0194 Acc : 0.9946\n",
      "val Loss : 0.1168 val Acc : 0.9725\n",
      "Epoch : 24\n"
     ]
    },
    {
     "name": "stderr",
     "output_type": "stream",
     "text": [
      "100%|██████████████████████████████| 469/469 [00:03<00:00, 131.58it/s]\n",
      "100%|████████████████████████████████| 79/79 [00:00<00:00, 134.88it/s]\n",
      "  0%|                                         | 0/469 [00:00<?, ?it/s]"
     ]
    },
    {
     "name": "stdout",
     "output_type": "stream",
     "text": [
      "Loss : 0.0161 Acc : 0.9951\n",
      "val Loss : 0.1176 val Acc : 0.9717\n",
      "Epoch : 25\n"
     ]
    },
    {
     "name": "stderr",
     "output_type": "stream",
     "text": [
      "100%|██████████████████████████████| 469/469 [00:03<00:00, 129.13it/s]\n",
      "100%|████████████████████████████████| 79/79 [00:00<00:00, 136.36it/s]\n",
      "  0%|                                         | 0/469 [00:00<?, ?it/s]"
     ]
    },
    {
     "name": "stdout",
     "output_type": "stream",
     "text": [
      "Loss : 0.0157 Acc : 0.9955\n",
      "val Loss : 0.1133 val Acc : 0.9736\n",
      "Epoch : 26\n"
     ]
    },
    {
     "name": "stderr",
     "output_type": "stream",
     "text": [
      "100%|██████████████████████████████| 469/469 [00:03<00:00, 130.70it/s]\n",
      "100%|████████████████████████████████| 79/79 [00:00<00:00, 135.71it/s]\n",
      "  0%|                                         | 0/469 [00:00<?, ?it/s]"
     ]
    },
    {
     "name": "stdout",
     "output_type": "stream",
     "text": [
      "Loss : 0.0147 Acc : 0.9955\n",
      "val Loss : 0.1273 val Acc : 0.9713\n",
      "Epoch : 27\n"
     ]
    },
    {
     "name": "stderr",
     "output_type": "stream",
     "text": [
      "100%|██████████████████████████████| 469/469 [00:03<00:00, 132.08it/s]\n",
      "100%|████████████████████████████████| 79/79 [00:00<00:00, 140.28it/s]\n",
      "  0%|                                         | 0/469 [00:00<?, ?it/s]"
     ]
    },
    {
     "name": "stdout",
     "output_type": "stream",
     "text": [
      "Loss : 0.0132 Acc : 0.9961\n",
      "val Loss : 0.1282 val Acc : 0.9708\n",
      "Epoch : 28\n"
     ]
    },
    {
     "name": "stderr",
     "output_type": "stream",
     "text": [
      "100%|██████████████████████████████| 469/469 [00:03<00:00, 131.82it/s]\n",
      "100%|████████████████████████████████| 79/79 [00:00<00:00, 134.80it/s]\n",
      "  0%|                                         | 0/469 [00:00<?, ?it/s]"
     ]
    },
    {
     "name": "stdout",
     "output_type": "stream",
     "text": [
      "Loss : 0.0127 Acc : 0.9963\n",
      "val Loss : 0.1290 val Acc : 0.9712\n",
      "Epoch : 29\n"
     ]
    },
    {
     "name": "stderr",
     "output_type": "stream",
     "text": [
      "100%|██████████████████████████████| 469/469 [00:03<00:00, 130.61it/s]\n",
      "100%|████████████████████████████████| 79/79 [00:00<00:00, 130.43it/s]\n",
      "  0%|                                         | 0/469 [00:00<?, ?it/s]"
     ]
    },
    {
     "name": "stdout",
     "output_type": "stream",
     "text": [
      "Loss : 0.0104 Acc : 0.9972\n",
      "val Loss : 0.1244 val Acc : 0.9751\n",
      "Epoch : 30\n"
     ]
    },
    {
     "name": "stderr",
     "output_type": "stream",
     "text": [
      "100%|██████████████████████████████| 469/469 [00:03<00:00, 126.16it/s]\n",
      "100%|████████████████████████████████| 79/79 [00:00<00:00, 137.99it/s]"
     ]
    },
    {
     "name": "stdout",
     "output_type": "stream",
     "text": [
      "Loss : 0.0116 Acc : 0.9963\n",
      "val Loss : 0.1318 val Acc : 0.9722\n"
     ]
    },
    {
     "name": "stderr",
     "output_type": "stream",
     "text": [
      "\n"
     ]
    }
   ],
   "source": [
    "optimizer = optim.Adam(student.parameters(), lr=0.001)\n",
    "loss_fn = nn.CrossEntropyLoss()\n",
    "h2 = train(student, trainloader, optimizer, loss_fn, testloader, epochs=EPOCHS, save_path=\"models/mnist_student.pt\")"
   ]
  },
  {
   "cell_type": "code",
   "execution_count": 7,
   "metadata": {},
   "outputs": [
    {
     "name": "stderr",
     "output_type": "stream",
     "text": [
      "\r",
      "  0%|                                         | 0/469 [00:00<?, ?it/s]"
     ]
    },
    {
     "name": "stdout",
     "output_type": "stream",
     "text": [
      "Epoch : 1\n"
     ]
    },
    {
     "name": "stderr",
     "output_type": "stream",
     "text": [
      "/Users/sungmincho/C/pytorch-practice/train.py:102: UserWarning: Implicit dimension choice for log_softmax has been deprecated. Change the call to include dim=X as an argument.\n",
      "  return nn.KLDivLoss()(F.log_softmax(output / T), nn.functional.softmax(teacher_y / T)) * (T*T * 2.0 * lambda_const) + F.cross_entropy(output, y) * (1. - lambda_const)\n",
      "/Users/sungmincho/C/pytorch-practice/train.py:102: UserWarning: Implicit dimension choice for softmax has been deprecated. Change the call to include dim=X as an argument.\n",
      "  return nn.KLDivLoss()(F.log_softmax(output / T), nn.functional.softmax(teacher_y / T)) * (T*T * 2.0 * lambda_const) + F.cross_entropy(output, y) * (1. - lambda_const)\n",
      "100%|██████████████████████████████| 469/469 [00:04<00:00, 114.58it/s]\n",
      "100%|████████████████████████████████| 79/79 [00:00<00:00, 129.24it/s]\n",
      "  0%|                                         | 0/469 [00:00<?, ?it/s]"
     ]
    },
    {
     "name": "stdout",
     "output_type": "stream",
     "text": [
      "Loss : 2.5762 Acc : 0.8239 True Loss : 0.8370\n",
      "val Loss : 1.0104 val Acc : 0.9141 val True Loss : 0.6043\n",
      "Epoch : 2\n"
     ]
    },
    {
     "name": "stderr",
     "output_type": "stream",
     "text": [
      "100%|██████████████████████████████| 469/469 [00:04<00:00, 123.92it/s]\n",
      "100%|████████████████████████████████| 79/79 [00:00<00:00, 126.13it/s]\n",
      "  0%|                                         | 0/469 [00:00<?, ?it/s]"
     ]
    },
    {
     "name": "stdout",
     "output_type": "stream",
     "text": [
      "Loss : 0.9524 Acc : 0.9200 True Loss : 0.5533\n",
      "val Loss : 0.7262 val Acc : 0.9307 val True Loss : 0.4916\n",
      "Epoch : 3\n"
     ]
    },
    {
     "name": "stderr",
     "output_type": "stream",
     "text": [
      "100%|██████████████████████████████| 469/469 [00:04<00:00, 114.75it/s]\n",
      "100%|████████████████████████████████| 79/79 [00:00<00:00, 125.02it/s]\n",
      "  0%|                                         | 0/469 [00:00<?, ?it/s]"
     ]
    },
    {
     "name": "stdout",
     "output_type": "stream",
     "text": [
      "Loss : 0.7102 Acc : 0.9357 True Loss : 0.4295\n",
      "val Loss : 0.5487 val Acc : 0.9437 val True Loss : 0.3749\n",
      "Epoch : 4\n"
     ]
    },
    {
     "name": "stderr",
     "output_type": "stream",
     "text": [
      "100%|██████████████████████████████| 469/469 [00:04<00:00, 114.64it/s]\n",
      "100%|████████████████████████████████| 79/79 [00:00<00:00, 124.81it/s]\n",
      "  0%|                                         | 0/469 [00:00<?, ?it/s]"
     ]
    },
    {
     "name": "stdout",
     "output_type": "stream",
     "text": [
      "Loss : 0.5468 Acc : 0.9476 True Loss : 0.3325\n",
      "val Loss : 0.4247 val Acc : 0.9520 val True Loss : 0.2954\n",
      "Epoch : 5\n"
     ]
    },
    {
     "name": "stderr",
     "output_type": "stream",
     "text": [
      "100%|██████████████████████████████| 469/469 [00:04<00:00, 114.44it/s]\n",
      "100%|████████████████████████████████| 79/79 [00:00<00:00, 126.24it/s]\n",
      "  0%|                                         | 0/469 [00:00<?, ?it/s]"
     ]
    },
    {
     "name": "stdout",
     "output_type": "stream",
     "text": [
      "Loss : 0.4397 Acc : 0.9566 True Loss : 0.2632\n",
      "val Loss : 0.3594 val Acc : 0.9579 val True Loss : 0.2603\n",
      "Epoch : 6\n"
     ]
    },
    {
     "name": "stderr",
     "output_type": "stream",
     "text": [
      "100%|██████████████████████████████| 469/469 [00:04<00:00, 116.33it/s]\n",
      "100%|████████████████████████████████| 79/79 [00:00<00:00, 126.00it/s]\n",
      "  0%|                                         | 0/469 [00:00<?, ?it/s]"
     ]
    },
    {
     "name": "stdout",
     "output_type": "stream",
     "text": [
      "Loss : 0.3662 Acc : 0.9618 True Loss : 0.2173\n",
      "val Loss : 0.2993 val Acc : 0.9645 val True Loss : 0.2186\n",
      "Epoch : 7\n"
     ]
    },
    {
     "name": "stderr",
     "output_type": "stream",
     "text": [
      "100%|██████████████████████████████| 469/469 [00:04<00:00, 113.63it/s]\n",
      "100%|████████████████████████████████| 79/79 [00:00<00:00, 128.27it/s]\n",
      "  0%|                                         | 0/469 [00:00<?, ?it/s]"
     ]
    },
    {
     "name": "stdout",
     "output_type": "stream",
     "text": [
      "Loss : 0.3117 Acc : 0.9670 True Loss : 0.1822\n",
      "val Loss : 0.2624 val Acc : 0.9667 val True Loss : 0.2047\n",
      "Epoch : 8\n"
     ]
    },
    {
     "name": "stderr",
     "output_type": "stream",
     "text": [
      "100%|██████████████████████████████| 469/469 [00:04<00:00, 115.40it/s]\n",
      "100%|████████████████████████████████| 79/79 [00:00<00:00, 127.92it/s]\n",
      "  0%|                                         | 0/469 [00:00<?, ?it/s]"
     ]
    },
    {
     "name": "stdout",
     "output_type": "stream",
     "text": [
      "Loss : 0.2703 Acc : 0.9712 True Loss : 0.1542\n",
      "val Loss : 0.2440 val Acc : 0.9674 val True Loss : 0.1967\n",
      "Epoch : 9\n"
     ]
    },
    {
     "name": "stderr",
     "output_type": "stream",
     "text": [
      "100%|██████████████████████████████| 469/469 [00:04<00:00, 115.67it/s]\n",
      "100%|████████████████████████████████| 79/79 [00:00<00:00, 126.06it/s]\n",
      "  0%|                                         | 0/469 [00:00<?, ?it/s]"
     ]
    },
    {
     "name": "stdout",
     "output_type": "stream",
     "text": [
      "Loss : 0.2388 Acc : 0.9738 True Loss : 0.1317\n",
      "val Loss : 0.2127 val Acc : 0.9704 val True Loss : 0.1774\n",
      "Epoch : 10\n"
     ]
    },
    {
     "name": "stderr",
     "output_type": "stream",
     "text": [
      "100%|██████████████████████████████| 469/469 [00:04<00:00, 121.77it/s]\n",
      "100%|████████████████████████████████| 79/79 [00:00<00:00, 126.90it/s]\n",
      "  0%|                                         | 0/469 [00:00<?, ?it/s]"
     ]
    },
    {
     "name": "stdout",
     "output_type": "stream",
     "text": [
      "Loss : 0.2132 Acc : 0.9766 True Loss : 0.1144\n",
      "val Loss : 0.2003 val Acc : 0.9699 val True Loss : 0.1750\n",
      "Epoch : 11\n"
     ]
    },
    {
     "name": "stderr",
     "output_type": "stream",
     "text": [
      "100%|██████████████████████████████| 469/469 [00:04<00:00, 114.80it/s]\n",
      "100%|████████████████████████████████| 79/79 [00:00<00:00, 127.29it/s]\n",
      "  0%|                                         | 0/469 [00:00<?, ?it/s]"
     ]
    },
    {
     "name": "stdout",
     "output_type": "stream",
     "text": [
      "Loss : 0.1930 Acc : 0.9788 True Loss : 0.0997\n",
      "val Loss : 0.1907 val Acc : 0.9713 val True Loss : 0.1663\n",
      "Epoch : 12\n"
     ]
    },
    {
     "name": "stderr",
     "output_type": "stream",
     "text": [
      "100%|██████████████████████████████| 469/469 [00:04<00:00, 115.79it/s]\n",
      "100%|████████████████████████████████| 79/79 [00:00<00:00, 127.18it/s]\n",
      "  0%|                                         | 0/469 [00:00<?, ?it/s]"
     ]
    },
    {
     "name": "stdout",
     "output_type": "stream",
     "text": [
      "Loss : 0.1773 Acc : 0.9802 True Loss : 0.0888\n",
      "val Loss : 0.1798 val Acc : 0.9717 val True Loss : 0.1626\n",
      "Epoch : 13\n"
     ]
    },
    {
     "name": "stderr",
     "output_type": "stream",
     "text": [
      "100%|██████████████████████████████| 469/469 [00:04<00:00, 115.76it/s]\n",
      "100%|████████████████████████████████| 79/79 [00:00<00:00, 125.61it/s]\n",
      "  0%|                                         | 0/469 [00:00<?, ?it/s]"
     ]
    },
    {
     "name": "stdout",
     "output_type": "stream",
     "text": [
      "Loss : 0.1640 Acc : 0.9814 True Loss : 0.0796\n",
      "val Loss : 0.1682 val Acc : 0.9735 val True Loss : 0.1533\n",
      "Epoch : 14\n"
     ]
    },
    {
     "name": "stderr",
     "output_type": "stream",
     "text": [
      "100%|██████████████████████████████| 469/469 [00:04<00:00, 113.25it/s]\n",
      "100%|████████████████████████████████| 79/79 [00:00<00:00, 125.93it/s]\n",
      "  0%|                                         | 0/469 [00:00<?, ?it/s]"
     ]
    },
    {
     "name": "stdout",
     "output_type": "stream",
     "text": [
      "Loss : 0.1518 Acc : 0.9834 True Loss : 0.0705\n",
      "val Loss : 0.1697 val Acc : 0.9722 val True Loss : 0.1538\n",
      "Epoch : 15\n"
     ]
    },
    {
     "name": "stderr",
     "output_type": "stream",
     "text": [
      "100%|██████████████████████████████| 469/469 [00:04<00:00, 116.39it/s]\n",
      "100%|████████████████████████████████| 79/79 [00:00<00:00, 126.52it/s]\n",
      "  0%|                                         | 0/469 [00:00<?, ?it/s]"
     ]
    },
    {
     "name": "stdout",
     "output_type": "stream",
     "text": [
      "Loss : 0.1426 Acc : 0.9848 True Loss : 0.0627\n",
      "val Loss : 0.1620 val Acc : 0.9719 val True Loss : 0.1582\n",
      "Epoch : 16\n"
     ]
    },
    {
     "name": "stderr",
     "output_type": "stream",
     "text": [
      "100%|██████████████████████████████| 469/469 [00:04<00:00, 114.92it/s]\n",
      "100%|████████████████████████████████| 79/79 [00:00<00:00, 127.88it/s]\n",
      "  0%|                                         | 0/469 [00:00<?, ?it/s]"
     ]
    },
    {
     "name": "stdout",
     "output_type": "stream",
     "text": [
      "Loss : 0.1344 Acc : 0.9854 True Loss : 0.0579\n",
      "val Loss : 0.1553 val Acc : 0.9750 val True Loss : 0.1483\n",
      "Epoch : 17\n"
     ]
    },
    {
     "name": "stderr",
     "output_type": "stream",
     "text": [
      "100%|██████████████████████████████| 469/469 [00:03<00:00, 117.51it/s]\n",
      "100%|████████████████████████████████| 79/79 [00:00<00:00, 127.73it/s]\n",
      "  0%|                                         | 0/469 [00:00<?, ?it/s]"
     ]
    },
    {
     "name": "stdout",
     "output_type": "stream",
     "text": [
      "Loss : 0.1271 Acc : 0.9867 True Loss : 0.0522\n",
      "val Loss : 0.1471 val Acc : 0.9744 val True Loss : 0.1481\n",
      "Epoch : 18\n"
     ]
    },
    {
     "name": "stderr",
     "output_type": "stream",
     "text": [
      "100%|██████████████████████████████| 469/469 [00:04<00:00, 115.01it/s]\n",
      "100%|████████████████████████████████| 79/79 [00:00<00:00, 127.84it/s]\n",
      "  0%|                                         | 0/469 [00:00<?, ?it/s]"
     ]
    },
    {
     "name": "stdout",
     "output_type": "stream",
     "text": [
      "Loss : 0.1209 Acc : 0.9876 True Loss : 0.0471\n",
      "val Loss : 0.1443 val Acc : 0.9755 val True Loss : 0.1404\n",
      "Epoch : 19\n"
     ]
    },
    {
     "name": "stderr",
     "output_type": "stream",
     "text": [
      "100%|██████████████████████████████| 469/469 [00:04<00:00, 115.93it/s]\n",
      "100%|████████████████████████████████| 79/79 [00:00<00:00, 128.09it/s]\n",
      "  0%|                                         | 0/469 [00:00<?, ?it/s]"
     ]
    },
    {
     "name": "stdout",
     "output_type": "stream",
     "text": [
      "Loss : 0.1168 Acc : 0.9882 True Loss : 0.0446\n",
      "val Loss : 0.1477 val Acc : 0.9735 val True Loss : 0.1459\n",
      "Epoch : 20\n"
     ]
    },
    {
     "name": "stderr",
     "output_type": "stream",
     "text": [
      "100%|██████████████████████████████| 469/469 [00:04<00:00, 115.67it/s]\n",
      "100%|████████████████████████████████| 79/79 [00:00<00:00, 128.82it/s]\n",
      "  0%|                                         | 0/469 [00:00<?, ?it/s]"
     ]
    },
    {
     "name": "stdout",
     "output_type": "stream",
     "text": [
      "Loss : 0.1118 Acc : 0.9889 True Loss : 0.0414\n",
      "val Loss : 0.1351 val Acc : 0.9751 val True Loss : 0.1416\n",
      "Epoch : 21\n"
     ]
    },
    {
     "name": "stderr",
     "output_type": "stream",
     "text": [
      "100%|██████████████████████████████| 469/469 [00:04<00:00, 116.13it/s]\n",
      "100%|████████████████████████████████| 79/79 [00:00<00:00, 128.89it/s]\n",
      "  0%|                                         | 0/469 [00:00<?, ?it/s]"
     ]
    },
    {
     "name": "stdout",
     "output_type": "stream",
     "text": [
      "Loss : 0.1066 Acc : 0.9897 True Loss : 0.0373\n",
      "val Loss : 0.1327 val Acc : 0.9744 val True Loss : 0.1441\n",
      "Epoch : 22\n"
     ]
    },
    {
     "name": "stderr",
     "output_type": "stream",
     "text": [
      "100%|██████████████████████████████| 469/469 [00:04<00:00, 113.50it/s]\n",
      "100%|████████████████████████████████| 79/79 [00:00<00:00, 120.55it/s]\n",
      "  0%|                                         | 0/469 [00:00<?, ?it/s]"
     ]
    },
    {
     "name": "stdout",
     "output_type": "stream",
     "text": [
      "Loss : 0.1030 Acc : 0.9902 True Loss : 0.0349\n",
      "val Loss : 0.1407 val Acc : 0.9745 val True Loss : 0.1434\n",
      "Epoch : 23\n"
     ]
    },
    {
     "name": "stderr",
     "output_type": "stream",
     "text": [
      "100%|██████████████████████████████| 469/469 [00:04<00:00, 114.84it/s]\n",
      "100%|████████████████████████████████| 79/79 [00:00<00:00, 129.51it/s]\n",
      "  0%|                                         | 0/469 [00:00<?, ?it/s]"
     ]
    },
    {
     "name": "stdout",
     "output_type": "stream",
     "text": [
      "Loss : 0.1013 Acc : 0.9905 True Loss : 0.0342\n",
      "val Loss : 0.1297 val Acc : 0.9752 val True Loss : 0.1442\n",
      "Epoch : 24\n"
     ]
    },
    {
     "name": "stderr",
     "output_type": "stream",
     "text": [
      "100%|██████████████████████████████| 469/469 [00:04<00:00, 115.63it/s]\n",
      "100%|████████████████████████████████| 79/79 [00:00<00:00, 131.68it/s]\n",
      "  0%|                                         | 0/469 [00:00<?, ?it/s]"
     ]
    },
    {
     "name": "stdout",
     "output_type": "stream",
     "text": [
      "Loss : 0.0969 Acc : 0.9916 True Loss : 0.0308\n",
      "val Loss : 0.1363 val Acc : 0.9752 val True Loss : 0.1397\n",
      "Epoch : 25\n"
     ]
    },
    {
     "name": "stderr",
     "output_type": "stream",
     "text": [
      "100%|██████████████████████████████| 469/469 [00:04<00:00, 117.11it/s]\n",
      "100%|████████████████████████████████| 79/79 [00:00<00:00, 126.02it/s]\n",
      "  0%|                                         | 0/469 [00:00<?, ?it/s]"
     ]
    },
    {
     "name": "stdout",
     "output_type": "stream",
     "text": [
      "Loss : 0.0938 Acc : 0.9914 True Loss : 0.0292\n",
      "val Loss : 0.1291 val Acc : 0.9758 val True Loss : 0.1417\n",
      "Epoch : 26\n"
     ]
    },
    {
     "name": "stderr",
     "output_type": "stream",
     "text": [
      "100%|██████████████████████████████| 469/469 [00:04<00:00, 114.35it/s]\n",
      "100%|████████████████████████████████| 79/79 [00:00<00:00, 126.84it/s]\n",
      "  0%|                                         | 0/469 [00:00<?, ?it/s]"
     ]
    },
    {
     "name": "stdout",
     "output_type": "stream",
     "text": [
      "Loss : 0.0912 Acc : 0.9917 True Loss : 0.0273\n",
      "val Loss : 0.1293 val Acc : 0.9757 val True Loss : 0.1419\n",
      "Epoch : 27\n"
     ]
    },
    {
     "name": "stderr",
     "output_type": "stream",
     "text": [
      "100%|██████████████████████████████| 469/469 [00:04<00:00, 114.93it/s]\n",
      "100%|████████████████████████████████| 79/79 [00:00<00:00, 131.86it/s]\n",
      "  0%|                                         | 0/469 [00:00<?, ?it/s]"
     ]
    },
    {
     "name": "stdout",
     "output_type": "stream",
     "text": [
      "Loss : 0.0886 Acc : 0.9922 True Loss : 0.0267\n",
      "val Loss : 0.1310 val Acc : 0.9754 val True Loss : 0.1374\n",
      "Epoch : 28\n"
     ]
    },
    {
     "name": "stderr",
     "output_type": "stream",
     "text": [
      "100%|██████████████████████████████| 469/469 [00:04<00:00, 116.77it/s]\n",
      "100%|████████████████████████████████| 79/79 [00:00<00:00, 126.63it/s]\n",
      "  0%|                                         | 0/469 [00:00<?, ?it/s]"
     ]
    },
    {
     "name": "stdout",
     "output_type": "stream",
     "text": [
      "Loss : 0.0868 Acc : 0.9927 True Loss : 0.0245\n",
      "val Loss : 0.1248 val Acc : 0.9759 val True Loss : 0.1395\n",
      "Epoch : 29\n"
     ]
    },
    {
     "name": "stderr",
     "output_type": "stream",
     "text": [
      "100%|██████████████████████████████| 469/469 [00:03<00:00, 122.43it/s]\n",
      "100%|████████████████████████████████| 79/79 [00:00<00:00, 129.66it/s]\n",
      "  0%|                                         | 0/469 [00:00<?, ?it/s]"
     ]
    },
    {
     "name": "stdout",
     "output_type": "stream",
     "text": [
      "Loss : 0.0852 Acc : 0.9929 True Loss : 0.0238\n",
      "val Loss : 0.1240 val Acc : 0.9758 val True Loss : 0.1393\n",
      "Epoch : 30\n"
     ]
    },
    {
     "name": "stderr",
     "output_type": "stream",
     "text": [
      "100%|██████████████████████████████| 469/469 [00:04<00:00, 115.64it/s]\n",
      "100%|████████████████████████████████| 79/79 [00:00<00:00, 127.33it/s]"
     ]
    },
    {
     "name": "stdout",
     "output_type": "stream",
     "text": [
      "Loss : 0.0824 Acc : 0.9933 True Loss : 0.0219\n",
      "val Loss : 0.1207 val Acc : 0.9760 val True Loss : 0.1383\n"
     ]
    },
    {
     "name": "stderr",
     "output_type": "stream",
     "text": [
      "\n"
     ]
    }
   ],
   "source": [
    "optimizer = optim.Adam(student2.parameters(), lr=0.001)\n",
    "loss_fn = nn.CrossEntropyLoss()\n",
    "h3 = distill(teacher, student2, trainloader, optimizer, loss_fn, testloader, epochs=EPOCHS, save_path=\"models/mnist_student2.pt\")"
   ]
  },
  {
   "cell_type": "code",
   "execution_count": 8,
   "metadata": {},
   "outputs": [
    {
     "data": {
      "text/plain": [
       "<matplotlib.legend.Legend at 0x115aa22b0>"
      ]
     },
     "execution_count": 8,
     "metadata": {},
     "output_type": "execute_result"
    },
    {
     "data": {
      "image/png": "[encoded data removed]",
      "text/plain": [
       "<Figure size 432x288 with 1 Axes>"
      ]
     },
     "metadata": {
      "needs_background": "light"
     },
     "output_type": "display_data"
    }
   ],
   "source": [
    "plt.plot(h1['acc'], label='teacher')\n",
    "plt.plot(h2['acc'], label='student_baseline')\n",
    "plt.plot(h3['acc'], label='student')\n",
    "plt.legend()"
   ]
  },
  {
   "cell_type": "code",
   "execution_count": 9,
   "metadata": {},
   "outputs": [
    {
     "data": {
      "text/plain": [
       "<matplotlib.legend.Legend at 0x119512278>"
      ]
     },
     "execution_count": 9,
     "metadata": {},
     "output_type": "execute_result"
    },
    {
     "data": {
      "image/png": "[encoded data removed]",
      "text/plain": [
       "<Figure size 432x288 with 1 Axes>"
      ]
     },
     "metadata": {
      "needs_background": "light"
     },
     "output_type": "display_data"
    }
   ],
   "source": [
    "plt.plot(h1['val_acc'], label='teacher')\n",
    "plt.plot(h2['val_acc'], label='student_baseline')\n",
    "plt.plot(h3['val_acc'], label='student')\n",
    "plt.legend()"
   ]
  },
  {
   "cell_type": "code",
   "execution_count": 10,
   "metadata": {},
   "outputs": [
    {
     "data": {
      "text/plain": [
       "<matplotlib.legend.Legend at 0x115ae5780>"
      ]
     },
     "execution_count": 10,
     "metadata": {},
     "output_type": "execute_result"
    },
    {
     "data": {
      "image/png": "[encoded data removed]",
      "text/plain": [
       "<Figure size 432x288 with 1 Axes>"
      ]
     },
     "metadata": {
      "needs_background": "light"
     },
     "output_type": "display_data"
    }
   ],
   "source": [
    "plt.plot(h1['loss'], label='teacher')\n",
    "plt.plot(h2['loss'], label='student_baseline')\n",
    "plt.plot(h3['true_loss'], label='student')\n",
    "plt.legend()"
   ]
  },
  {
   "cell_type": "code",
   "execution_count": 11,
   "metadata": {},
   "outputs": [
    {
     "data": {
      "text/plain": [
       "<matplotlib.legend.Legend at 0x11961feb8>"
      ]
     },
     "execution_count": 11,
     "metadata": {},
     "output_type": "execute_result"
    },
    {
     "data": {
      "image/png": "[encoded data removed]",
      "text/plain": [
       "<Figure size 432x288 with 1 Axes>"
      ]
     },
     "metadata": {
      "needs_background": "light"
     },
     "output_type": "display_data"
    }
   ],
   "source": [
    "plt.plot(h1['val_loss'], label='teacher')\n",
    "plt.plot(h2['val_loss'], label='student_baseline')\n",
    "plt.plot(h3['val_true_loss'], label='student')\n",
    "plt.legend()"
   ]
  }
 ],
 "metadata": {
  "kernelspec": {
   "display_name": "Python 3",
   "language": "python",
   "name": "python3"
  },
  "language_info": {
   "codemirror_mode": {
    "name": "ipython",
    "version": 3
   },
   "file_extension": ".py",
   "mimetype": "text/x-python",
   "name": "python",
   "nbconvert_exporter": "python",
   "pygments_lexer": "ipython3",
   "version": "3.6.5"
  }
 },
 "nbformat": 4,
 "nbformat_minor": 2
}
