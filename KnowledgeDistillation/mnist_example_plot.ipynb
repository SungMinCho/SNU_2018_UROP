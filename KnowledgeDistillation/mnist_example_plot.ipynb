{
 "cells": [
  {
   "cell_type": "code",
   "execution_count": 1,
   "metadata": {},
   "outputs": [],
   "source": [
    "from mnist_example import *"
   ]
  },
  {
   "cell_type": "code",
   "execution_count": 2,
   "metadata": {
    "scrolled": true
   },
   "outputs": [
    {
     "name": "stdout",
     "output_type": "stream",
     "text": [
      "Train on 60000 samples, validate on 10000 samples\n",
      "Epoch 1/10\n",
      "60000/60000 [==============================] - 2s 39us/step - loss: 0.3288 - acc: 0.9075 - val_loss: 0.1709 - val_acc: 0.9491\n",
      "Epoch 2/10\n",
      "60000/60000 [==============================] - 2s 36us/step - loss: 0.1369 - acc: 0.9595 - val_loss: 0.1184 - val_acc: 0.9622\n",
      "Epoch 3/10\n",
      "60000/60000 [==============================] - 2s 38us/step - loss: 0.0969 - acc: 0.9705 - val_loss: 0.1064 - val_acc: 0.9681\n",
      "Epoch 4/10\n",
      "60000/60000 [==============================] - 2s 36us/step - loss: 0.0751 - acc: 0.9774 - val_loss: 0.0877 - val_acc: 0.9735\n",
      "Epoch 5/10\n",
      "60000/60000 [==============================] - 2s 36us/step - loss: 0.0599 - acc: 0.9822 - val_loss: 0.0896 - val_acc: 0.9716\n",
      "Epoch 6/10\n",
      "60000/60000 [==============================] - 2s 39us/step - loss: 0.0480 - acc: 0.9858 - val_loss: 0.0911 - val_acc: 0.9731\n",
      "Epoch 7/10\n",
      "60000/60000 [==============================] - 2s 39us/step - loss: 0.0411 - acc: 0.9874 - val_loss: 0.0830 - val_acc: 0.9756\n",
      "Epoch 8/10\n",
      "60000/60000 [==============================] - 3s 42us/step - loss: 0.0351 - acc: 0.9888 - val_loss: 0.0873 - val_acc: 0.9758\n",
      "Epoch 9/10\n",
      "60000/60000 [==============================] - 2s 36us/step - loss: 0.0283 - acc: 0.9909 - val_loss: 0.0919 - val_acc: 0.9727\n",
      "Epoch 10/10\n",
      "60000/60000 [==============================] - 2s 37us/step - loss: 0.0237 - acc: 0.9927 - val_loss: 0.0946 - val_acc: 0.9744\n",
      "Train on 60000 samples, validate on 10000 samples\n",
      "Epoch 1/10\n",
      "60000/60000 [==============================] - 2s 34us/step - loss: 0.4288 - acc: 0.8796 - val_loss: 0.2141 - val_acc: 0.9404\n",
      "Epoch 2/10\n",
      "60000/60000 [==============================] - 2s 31us/step - loss: 0.1872 - acc: 0.9461 - val_loss: 0.1582 - val_acc: 0.9531\n",
      "Epoch 3/10\n",
      "60000/60000 [==============================] - 2s 33us/step - loss: 0.1422 - acc: 0.9595 - val_loss: 0.1401 - val_acc: 0.9579\n",
      "Epoch 4/10\n",
      "60000/60000 [==============================] - 2s 29us/step - loss: 0.1184 - acc: 0.9647 - val_loss: 0.1182 - val_acc: 0.9652\n",
      "Epoch 5/10\n",
      "60000/60000 [==============================] - 2s 29us/step - loss: 0.0993 - acc: 0.9710 - val_loss: 0.1069 - val_acc: 0.9680\n",
      "Epoch 6/10\n",
      "60000/60000 [==============================] - 2s 30us/step - loss: 0.0855 - acc: 0.9741 - val_loss: 0.1019 - val_acc: 0.9701\n",
      "Epoch 7/10\n",
      "60000/60000 [==============================] - 2s 31us/step - loss: 0.0757 - acc: 0.9771 - val_loss: 0.1020 - val_acc: 0.9691\n",
      "Epoch 8/10\n",
      "60000/60000 [==============================] - 2s 29us/step - loss: 0.0659 - acc: 0.9801 - val_loss: 0.0958 - val_acc: 0.9722\n",
      "Epoch 9/10\n",
      "60000/60000 [==============================] - 2s 29us/step - loss: 0.0592 - acc: 0.9821 - val_loss: 0.0935 - val_acc: 0.9714\n",
      "Epoch 10/10\n",
      "60000/60000 [==============================] - 2s 33us/step - loss: 0.0536 - acc: 0.9840 - val_loss: 0.0902 - val_acc: 0.9746\n",
      "Train on 60000 samples, validate on 10000 samples\n",
      "Epoch 1/10\n",
      "60000/60000 [==============================] - 2s 41us/step - loss: 0.5960 - accuracy: 0.8696 - top_5_accuracy: 0.9821 - categorical_crossentropy: 0.4574 - soft_logloss: 0.5640 - val_loss: 0.3326 - val_accuracy: 0.9414 - val_top_5_accuracy: 0.9983 - val_categorical_crossentropy: 0.2227 - val_soft_logloss: 0.3170\n",
      "Epoch 2/10\n",
      "60000/60000 [==============================] - 2s 35us/step - loss: 0.3060 - accuracy: 0.9464 - top_5_accuracy: 0.9983 - categorical_crossentropy: 0.2031 - soft_logloss: 0.2918 - val_loss: 0.2746 - val_accuracy: 0.9586 - val_top_5_accuracy: 0.9996 - val_categorical_crossentropy: 0.1587 - val_soft_logloss: 0.2635\n",
      "Epoch 3/10\n",
      "60000/60000 [==============================] - 2s 40us/step - loss: 0.2625 - accuracy: 0.9596 - top_5_accuracy: 0.9992 - categorical_crossentropy: 0.1525 - soft_logloss: 0.2518 - val_loss: 0.2489 - val_accuracy: 0.9658 - val_top_5_accuracy: 0.9997 - val_categorical_crossentropy: 0.1302 - val_soft_logloss: 0.2398\n",
      "Epoch 4/10\n",
      "60000/60000 [==============================] - 2s 36us/step - loss: 0.2413 - accuracy: 0.9667 - top_5_accuracy: 0.9993 - categorical_crossentropy: 0.1256 - soft_logloss: 0.2326 - val_loss: 0.2381 - val_accuracy: 0.9714 - val_top_5_accuracy: 0.9997 - val_categorical_crossentropy: 0.1179 - val_soft_logloss: 0.2299\n",
      "Epoch 5/10\n",
      "60000/60000 [==============================] - 2s 35us/step - loss: 0.2274 - accuracy: 0.9716 - top_5_accuracy: 0.9996 - categorical_crossentropy: 0.1069 - soft_logloss: 0.2199 - val_loss: 0.2297 - val_accuracy: 0.9748 - val_top_5_accuracy: 0.9997 - val_categorical_crossentropy: 0.1082 - val_soft_logloss: 0.2221\n",
      "Epoch 6/10\n",
      "60000/60000 [==============================] - 2s 40us/step - loss: 0.2177 - accuracy: 0.9754 - top_5_accuracy: 0.9998 - categorical_crossentropy: 0.0935 - soft_logloss: 0.2111 - val_loss: 0.2321 - val_accuracy: 0.9735 - val_top_5_accuracy: 0.9994 - val_categorical_crossentropy: 0.1139 - val_soft_logloss: 0.2241\n",
      "Epoch 7/10\n",
      "60000/60000 [==============================] - 3s 42us/step - loss: 0.2105 - accuracy: 0.9786 - top_5_accuracy: 0.9998 - categorical_crossentropy: 0.0834 - soft_logloss: 0.2047 - val_loss: 0.2218 - val_accuracy: 0.9770 - val_top_5_accuracy: 0.9993 - val_categorical_crossentropy: 0.0994 - val_soft_logloss: 0.2148\n",
      "Epoch 8/10\n",
      "60000/60000 [==============================] - 2s 37us/step - loss: 0.2057 - accuracy: 0.9812 - top_5_accuracy: 0.9999 - categorical_crossentropy: 0.0766 - soft_logloss: 0.2004 - val_loss: 0.2184 - val_accuracy: 0.9783 - val_top_5_accuracy: 0.9995 - val_categorical_crossentropy: 0.0963 - val_soft_logloss: 0.2117\n",
      "Epoch 9/10\n",
      "60000/60000 [==============================] - 2s 35us/step - loss: 0.2014 - accuracy: 0.9826 - top_5_accuracy: 0.9999 - categorical_crossentropy: 0.0698 - soft_logloss: 0.1965 - val_loss: 0.2171 - val_accuracy: 0.9784 - val_top_5_accuracy: 0.9996 - val_categorical_crossentropy: 0.0942 - val_soft_logloss: 0.2105\n",
      "Epoch 10/10\n",
      "60000/60000 [==============================] - 2s 39us/step - loss: 0.1989 - accuracy: 0.9845 - top_5_accuracy: 1.0000 - categorical_crossentropy: 0.0663 - soft_logloss: 0.1942 - val_loss: 0.2169 - val_accuracy: 0.9791 - val_top_5_accuracy: 0.9997 - val_categorical_crossentropy: 0.0939 - val_soft_logloss: 0.2104\n"
     ]
    }
   ],
   "source": [
    "xd,yd,xt,yt = load_data()\n",
    "BATCH = 128\n",
    "EPOCH = 10\n",
    "\n",
    "teacher = Model(build_teacher_model, \"teacher\", fn_compile)\n",
    "student = Model(build_student_model, \"student\", fn_compile)\n",
    "\n",
    "callbacks = [keras.callbacks.TensorBoard('logs')]\n",
    "h1 = teacher.train(xd, yd, BATCH, EPOCH, callbacks, (xt,yt))\n",
    "h2 = student.train(xd, yd, BATCH, EPOCH, callbacks, (xt,yt))\n",
    "\n",
    "teacher.save()\n",
    "student.save()\n",
    "\n",
    "student2 = Model(build_student_model, \"student2\", fn_compile)\n",
    "distill = Distill(teacher, student2, 10, 2.0, 0.07)\n",
    "h3 = distill.teach(xd, yd, BATCH, EPOCH, callbacks, (xt,yt))\n"
   ]
  },
  {
   "cell_type": "code",
   "execution_count": 3,
   "metadata": {},
   "outputs": [
    {
     "data": {
      "text/plain": [
       "<matplotlib.legend.Legend at 0x1402ae390>"
      ]
     },
     "execution_count": 3,
     "metadata": {},
     "output_type": "execute_result"
    },
    {
     "data": {
      "image/png": "[encoded data removed]",
      "text/plain": [
       "<Figure size 432x288 with 1 Axes>"
      ]
     },
     "metadata": {
      "needs_background": "light"
     },
     "output_type": "display_data"
    }
   ],
   "source": [
    "plt.plot(h1.history['acc'], label='teacher')\n",
    "plt.plot(h2.history['acc'], label='student_baseline')\n",
    "plt.plot(h3.history['accuracy'], label='student')\n",
    "plt.legend()"
   ]
  }
 ],
 "metadata": {
  "kernelspec": {
   "display_name": "Python 3",
   "language": "python",
   "name": "python3"
  },
  "language_info": {
   "codemirror_mode": {
    "name": "ipython",
    "version": 3
   },
   "file_extension": ".py",
   "mimetype": "text/x-python",
   "name": "python",
   "nbconvert_exporter": "python",
   "pygments_lexer": "ipython3",
   "version": "3.6.5"
  }
 },
 "nbformat": 4,
 "nbformat_minor": 2
}
